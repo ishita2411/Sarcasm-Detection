{
  "nbformat": 4,
  "nbformat_minor": 0,
  "metadata": {
    "colab": {
      "name": "NLP_Sarcasm.ipynb",
      "provenance": [],
      "collapsed_sections": []
    },
    "kernelspec": {
      "name": "python3",
      "display_name": "Python 3"
    },
    "language_info": {
      "name": "python"
    }
  },
  "cells": [
    {
      "cell_type": "code",
      "metadata": {
        "id": "ePdFVgW5OPvX"
      },
      "source": [
        "import pandas as pd\n",
        "import re \n",
        "import nltk\n",
        "from tqdm import tqdm\n",
        "import matplotlib.pyplot as plt\n",
        "import seaborn as sns\n",
        "import keras\n",
        "from keras.preprocessing.text import Tokenizer\n",
        "from keras.preprocessing.sequence import pad_sequences\n",
        "from keras.layers import Dense,Embedding,Dropout,Input,Flatten,LSTM\n",
        "from keras.models import Sequential\n",
        "from sklearn.metrics import classification_report,confusion_matrix\n",
        "import warnings\n",
        "warnings.filterwarnings('ignore')"
      ],
      "execution_count": 1,
      "outputs": []
    },
    {
      "cell_type": "code",
      "metadata": {
        "id": "TWcbN8wWOW1O"
      },
      "source": [
        "from sklearn import metrics\n",
        "import numpy as np\n"
      ],
      "execution_count": 2,
      "outputs": []
    },
    {
      "cell_type": "code",
      "metadata": {
        "colab": {
          "base_uri": "https://localhost:8080/",
          "height": 203
        },
        "id": "pP2rK54NOiGx",
        "outputId": "61a21bba-6bcc-4f7b-c6ce-82e3531fbb52"
      },
      "source": [
        "train_data=pd.read_csv('/content/Train-Data- Sarcasm.csv')\n",
        "train_data.head()"
      ],
      "execution_count": 3,
      "outputs": [
        {
          "output_type": "execute_result",
          "data": {
            "text/html": [
              "<div>\n",
              "<style scoped>\n",
              "    .dataframe tbody tr th:only-of-type {\n",
              "        vertical-align: middle;\n",
              "    }\n",
              "\n",
              "    .dataframe tbody tr th {\n",
              "        vertical-align: top;\n",
              "    }\n",
              "\n",
              "    .dataframe thead th {\n",
              "        text-align: right;\n",
              "    }\n",
              "</style>\n",
              "<table border=\"1\" class=\"dataframe\">\n",
              "  <thead>\n",
              "    <tr style=\"text-align: right;\">\n",
              "      <th></th>\n",
              "      <th>Id</th>\n",
              "      <th>article_link</th>\n",
              "      <th>headline</th>\n",
              "      <th>is_sarcastic</th>\n",
              "    </tr>\n",
              "  </thead>\n",
              "  <tbody>\n",
              "    <tr>\n",
              "      <th>0</th>\n",
              "      <td>2347</td>\n",
              "      <td>https://www.huffingtonpost.com/entry/best-song...</td>\n",
              "      <td>the 23 best songs of 2014</td>\n",
              "      <td>0</td>\n",
              "    </tr>\n",
              "    <tr>\n",
              "      <th>1</th>\n",
              "      <td>26516</td>\n",
              "      <td>https://www.theonion.com/sesame-street-mourns-...</td>\n",
              "      <td>sesame street mourns death of original letter k</td>\n",
              "      <td>1</td>\n",
              "    </tr>\n",
              "    <tr>\n",
              "      <th>2</th>\n",
              "      <td>2576</td>\n",
              "      <td>https://www.huffingtonpost.com/entry/super-bow...</td>\n",
              "      <td>san francisco vandals keep messing with super ...</td>\n",
              "      <td>0</td>\n",
              "    </tr>\n",
              "    <tr>\n",
              "      <th>3</th>\n",
              "      <td>25464</td>\n",
              "      <td>https://local.theonion.com/area-man-cant-remem...</td>\n",
              "      <td>area man can't remember whether he rented mimi...</td>\n",
              "      <td>1</td>\n",
              "    </tr>\n",
              "    <tr>\n",
              "      <th>4</th>\n",
              "      <td>9030</td>\n",
              "      <td>https://local.theonion.com/fourth-grade-teache...</td>\n",
              "      <td>fourth-grade teacher receives dark portent of ...</td>\n",
              "      <td>1</td>\n",
              "    </tr>\n",
              "  </tbody>\n",
              "</table>\n",
              "</div>"
            ],
            "text/plain": [
              "      Id  ... is_sarcastic\n",
              "0   2347  ...            0\n",
              "1  26516  ...            1\n",
              "2   2576  ...            0\n",
              "3  25464  ...            1\n",
              "4   9030  ...            1\n",
              "\n",
              "[5 rows x 4 columns]"
            ]
          },
          "metadata": {
            "tags": []
          },
          "execution_count": 3
        }
      ]
    },
    {
      "cell_type": "code",
      "metadata": {
        "colab": {
          "base_uri": "https://localhost:8080/",
          "height": 203
        },
        "id": "Trfk-O3ucM10",
        "outputId": "cc59f7ad-f700-4165-b2fa-dbb2eabcad9a"
      },
      "source": [
        "test_data=pd.read_csv('/content/test_data.csv')\n",
        "test_data.drop(labels='Unnamed: 0',axis=1,inplace=True)\n",
        "test_data.head()"
      ],
      "execution_count": 4,
      "outputs": [
        {
          "output_type": "execute_result",
          "data": {
            "text/html": [
              "<div>\n",
              "<style scoped>\n",
              "    .dataframe tbody tr th:only-of-type {\n",
              "        vertical-align: middle;\n",
              "    }\n",
              "\n",
              "    .dataframe tbody tr th {\n",
              "        vertical-align: top;\n",
              "    }\n",
              "\n",
              "    .dataframe thead th {\n",
              "        text-align: right;\n",
              "    }\n",
              "</style>\n",
              "<table border=\"1\" class=\"dataframe\">\n",
              "  <thead>\n",
              "    <tr style=\"text-align: right;\">\n",
              "      <th></th>\n",
              "      <th>Id</th>\n",
              "      <th>article_link</th>\n",
              "      <th>headline</th>\n",
              "      <th>is_sarcastic</th>\n",
              "    </tr>\n",
              "  </thead>\n",
              "  <tbody>\n",
              "    <tr>\n",
              "      <th>0</th>\n",
              "      <td>18504</td>\n",
              "      <td>https://www.theonion.com/woman-relieved-soulma...</td>\n",
              "      <td>woman relieved soulmate turned out to be in sa...</td>\n",
              "      <td>1</td>\n",
              "    </tr>\n",
              "    <tr>\n",
              "      <th>1</th>\n",
              "      <td>20811</td>\n",
              "      <td>https://www.huffingtonpost.com/entry/end-the-i...</td>\n",
              "      <td>end the international drug war to control the ...</td>\n",
              "      <td>0</td>\n",
              "    </tr>\n",
              "    <tr>\n",
              "      <th>2</th>\n",
              "      <td>20419</td>\n",
              "      <td>https://www.huffingtonpost.com/entry/donald-tr...</td>\n",
              "      <td>who said it: renowned racist george wallace or...</td>\n",
              "      <td>0</td>\n",
              "    </tr>\n",
              "    <tr>\n",
              "      <th>3</th>\n",
              "      <td>20631</td>\n",
              "      <td>https://local.theonion.com/struggling-local-th...</td>\n",
              "      <td>struggling local theater space put out of its ...</td>\n",
              "      <td>1</td>\n",
              "    </tr>\n",
              "    <tr>\n",
              "      <th>4</th>\n",
              "      <td>1921</td>\n",
              "      <td>https://www.theonion.com/graffiti-artist-no-lo...</td>\n",
              "      <td>graffiti artist no longer putting his heart in it</td>\n",
              "      <td>1</td>\n",
              "    </tr>\n",
              "  </tbody>\n",
              "</table>\n",
              "</div>"
            ],
            "text/plain": [
              "      Id  ... is_sarcastic\n",
              "0  18504  ...            1\n",
              "1  20811  ...            0\n",
              "2  20419  ...            0\n",
              "3  20631  ...            1\n",
              "4   1921  ...            1\n",
              "\n",
              "[5 rows x 4 columns]"
            ]
          },
          "metadata": {
            "tags": []
          },
          "execution_count": 4
        }
      ]
    },
    {
      "cell_type": "code",
      "metadata": {
        "id": "N71ukLg3Pg-4"
      },
      "source": [
        "def clean_text(text):\n",
        "    word_len=[]\n",
        "    clean_data=[]\n",
        "    for sent in tqdm(text):\n",
        "        sent=re.sub(r'[^\\w\\s\\d]','',str(sent))\n",
        "        sent = str(sent).lower()\n",
        "        words=[word for word in sent.split()]\n",
        "        word_len.append(len(words))\n",
        "        clean_data.append(' '.join(words))\n",
        "    return clean_data,word_len"
      ],
      "execution_count": 5,
      "outputs": []
    },
    {
      "cell_type": "code",
      "metadata": {
        "colab": {
          "base_uri": "https://localhost:8080/"
        },
        "id": "InhOQVEjmKS1",
        "outputId": "eed2dd0c-f622-4f90-83ed-0e4b48e43939"
      },
      "source": [
        "train_data['cleaned_headline'] , train_data['word_count'] = clean_text(train_data['headline'])"
      ],
      "execution_count": 6,
      "outputs": [
        {
          "output_type": "stream",
          "text": [
            "100%|██████████| 21367/21367 [00:00<00:00, 165928.90it/s]\n"
          ],
          "name": "stderr"
        }
      ]
    },
    {
      "cell_type": "code",
      "metadata": {
        "colab": {
          "base_uri": "https://localhost:8080/"
        },
        "id": "8OwGM2-w5LRm",
        "outputId": "4b21375a-1af8-419a-a2b4-9793cbac89c2"
      },
      "source": [
        "train_data['word_count'].max()"
      ],
      "execution_count": 7,
      "outputs": [
        {
          "output_type": "execute_result",
          "data": {
            "text/plain": [
              "39"
            ]
          },
          "metadata": {
            "tags": []
          },
          "execution_count": 7
        }
      ]
    },
    {
      "cell_type": "code",
      "metadata": {
        "colab": {
          "base_uri": "https://localhost:8080/"
        },
        "id": "tk5zIc8DcYvy",
        "outputId": "8781cfc8-e14b-4103-e3fc-69776294815f"
      },
      "source": [
        "test_data['cleaned_headline'] , test_data['word_count'] = clean_text(test_data['headline'])"
      ],
      "execution_count": 8,
      "outputs": [
        {
          "output_type": "stream",
          "text": [
            "100%|██████████| 5342/5342 [00:00<00:00, 153768.89it/s]\n"
          ],
          "name": "stderr"
        }
      ]
    },
    {
      "cell_type": "code",
      "metadata": {
        "id": "K7cbnVFY5UnM"
      },
      "source": [
        "tokenizer=Tokenizer()\n",
        "tokenizer.fit_on_texts(train_data['cleaned_headline'])\n",
        "pad_len = 30\n",
        "\n",
        "train_headlines=tokenizer.texts_to_sequences(train_data['cleaned_headline'])\n",
        "train_headlines_padded=pad_sequences(train_headlines,maxlen=pad_len,padding='pre')\n",
        "test_headlines=tokenizer.texts_to_sequences(test_data['cleaned_headline'])\n",
        "test_headlines_padded=pad_sequences(test_headlines,maxlen=pad_len,padding='pre')"
      ],
      "execution_count": 9,
      "outputs": []
    },
    {
      "cell_type": "code",
      "metadata": {
        "colab": {
          "base_uri": "https://localhost:8080/"
        },
        "id": "x3Aa9dUH5Z-M",
        "outputId": "bf58614b-3370-4fd4-8da6-8e3eda1d6d02"
      },
      "source": [
        "vocab_size = len(tokenizer.word_index)\n",
        "model=Sequential()\n",
        "model.add(Input(shape=(pad_len,)))\n",
        "model.add(Embedding(vocab_size+1,20))\n",
        "\n",
        "model.add(Flatten())\n",
        "model.add(Dropout(0.3))\n",
        "model.add(Dense(8,activation='relu'))\n",
        "model.add(Dropout(0.2))\n",
        "model.add(Dense(8,activation='relu'))\n",
        "\n",
        "model.add(Dense(1,activation='sigmoid'))\n",
        "\n",
        "my_opt = keras.optimizers.Adam(learning_rate=0.0001)\n",
        "model.compile(optimizer=my_opt,loss='binary_crossentropy',metrics=['accuracy'])\n",
        "\n",
        "model.fit(train_headlines_padded, train_data['is_sarcastic'],validation_data=(test_headlines_padded,test_data['is_sarcastic']), epochs=10)"
      ],
      "execution_count": 10,
      "outputs": [
        {
          "output_type": "stream",
          "text": [
            "WARNING:tensorflow:Please add `keras.layers.InputLayer` instead of `keras.Input` to Sequential model. `keras.Input` is intended to be used by Functional model.\n",
            "Epoch 1/10\n",
            "668/668 [==============================] - 19s 7ms/step - loss: 0.6873 - accuracy: 0.5552 - val_loss: 0.6794 - val_accuracy: 0.5610\n",
            "Epoch 2/10\n",
            "668/668 [==============================] - 5s 7ms/step - loss: 0.6744 - accuracy: 0.5708 - val_loss: 0.6330 - val_accuracy: 0.7140\n",
            "Epoch 3/10\n",
            "668/668 [==============================] - 5s 7ms/step - loss: 0.6067 - accuracy: 0.7054 - val_loss: 0.5120 - val_accuracy: 0.8098\n",
            "Epoch 4/10\n",
            "668/668 [==============================] - 5s 7ms/step - loss: 0.4881 - accuracy: 0.7967 - val_loss: 0.4298 - val_accuracy: 0.8272\n",
            "Epoch 5/10\n",
            "668/668 [==============================] - 5s 7ms/step - loss: 0.3990 - accuracy: 0.8428 - val_loss: 0.3795 - val_accuracy: 0.8446\n",
            "Epoch 6/10\n",
            "668/668 [==============================] - 5s 7ms/step - loss: 0.3363 - accuracy: 0.8715 - val_loss: 0.3531 - val_accuracy: 0.8531\n",
            "Epoch 7/10\n",
            "668/668 [==============================] - 4s 7ms/step - loss: 0.2871 - accuracy: 0.8926 - val_loss: 0.3390 - val_accuracy: 0.8531\n",
            "Epoch 8/10\n",
            "668/668 [==============================] - 5s 7ms/step - loss: 0.2535 - accuracy: 0.9104 - val_loss: 0.3351 - val_accuracy: 0.8540\n",
            "Epoch 9/10\n",
            "668/668 [==============================] - 5s 7ms/step - loss: 0.2173 - accuracy: 0.9281 - val_loss: 0.3291 - val_accuracy: 0.8590\n",
            "Epoch 10/10\n",
            "668/668 [==============================] - 5s 7ms/step - loss: 0.1803 - accuracy: 0.9430 - val_loss: 0.3314 - val_accuracy: 0.8587\n"
          ],
          "name": "stdout"
        },
        {
          "output_type": "execute_result",
          "data": {
            "text/plain": [
              "<keras.callbacks.History at 0x7f558f4ff450>"
            ]
          },
          "metadata": {
            "tags": []
          },
          "execution_count": 10
        }
      ]
    },
    {
      "cell_type": "code",
      "metadata": {
        "colab": {
          "base_uri": "https://localhost:8080/"
        },
        "id": "ByTr3btI5nqn",
        "outputId": "725b6239-6209-4230-d464-dce64db55c8f"
      },
      "source": [
        "model.summary()"
      ],
      "execution_count": 11,
      "outputs": [
        {
          "output_type": "stream",
          "text": [
            "Model: \"sequential\"\n",
            "_________________________________________________________________\n",
            "Layer (type)                 Output Shape              Param #   \n",
            "=================================================================\n",
            "embedding (Embedding)        (None, 30, 20)            510020    \n",
            "_________________________________________________________________\n",
            "flatten (Flatten)            (None, 600)               0         \n",
            "_________________________________________________________________\n",
            "dropout (Dropout)            (None, 600)               0         \n",
            "_________________________________________________________________\n",
            "dense (Dense)                (None, 8)                 4808      \n",
            "_________________________________________________________________\n",
            "dropout_1 (Dropout)          (None, 8)                 0         \n",
            "_________________________________________________________________\n",
            "dense_1 (Dense)              (None, 8)                 72        \n",
            "_________________________________________________________________\n",
            "dense_2 (Dense)              (None, 1)                 9         \n",
            "=================================================================\n",
            "Total params: 514,909\n",
            "Trainable params: 514,909\n",
            "Non-trainable params: 0\n",
            "_________________________________________________________________\n"
          ],
          "name": "stdout"
        }
      ]
    },
    {
      "cell_type": "code",
      "metadata": {
        "colab": {
          "base_uri": "https://localhost:8080/"
        },
        "id": "mI6fB5_jcqF-",
        "outputId": "c9f0d266-9ef9-46f2-9c0a-a2de17b3caa8"
      },
      "source": [
        "model.evaluate(test_headlines_padded,test_data['is_sarcastic'])\n",
        "predictions = model.predict_classes(test_headlines_padded)"
      ],
      "execution_count": 12,
      "outputs": [
        {
          "output_type": "stream",
          "text": [
            "167/167 [==============================] - 0s 1ms/step - loss: 0.3314 - accuracy: 0.8587\n"
          ],
          "name": "stdout"
        }
      ]
    },
    {
      "cell_type": "code",
      "metadata": {
        "colab": {
          "base_uri": "https://localhost:8080/"
        },
        "id": "Sv1eARdCcxwv",
        "outputId": "bf58752e-c2a8-43e9-9422-49620a49e9b1"
      },
      "source": [
        "print(metrics.classification_report(test_data['is_sarcastic'],predictions))"
      ],
      "execution_count": 13,
      "outputs": [
        {
          "output_type": "stream",
          "text": [
            "              precision    recall  f1-score   support\n",
            "\n",
            "           0       0.88      0.86      0.87      2997\n",
            "           1       0.83      0.85      0.84      2345\n",
            "\n",
            "    accuracy                           0.86      5342\n",
            "   macro avg       0.86      0.86      0.86      5342\n",
            "weighted avg       0.86      0.86      0.86      5342\n",
            "\n"
          ],
          "name": "stdout"
        }
      ]
    },
    {
      "cell_type": "code",
      "metadata": {
        "id": "9apGcPGE8Ybt"
      },
      "source": [
        "test_d=pd.read_csv('Test-Data- Sarcasm.csv')"
      ],
      "execution_count": 14,
      "outputs": []
    },
    {
      "cell_type": "code",
      "metadata": {
        "colab": {
          "base_uri": "https://localhost:8080/",
          "height": 417
        },
        "id": "0TsWSj3nAmbR",
        "outputId": "f0810e4b-8b31-48e7-e296-b79f164e1d8e"
      },
      "source": [
        "test_d"
      ],
      "execution_count": 15,
      "outputs": [
        {
          "output_type": "execute_result",
          "data": {
            "text/html": [
              "<div>\n",
              "<style scoped>\n",
              "    .dataframe tbody tr th:only-of-type {\n",
              "        vertical-align: middle;\n",
              "    }\n",
              "\n",
              "    .dataframe tbody tr th {\n",
              "        vertical-align: top;\n",
              "    }\n",
              "\n",
              "    .dataframe thead th {\n",
              "        text-align: right;\n",
              "    }\n",
              "</style>\n",
              "<table border=\"1\" class=\"dataframe\">\n",
              "  <thead>\n",
              "    <tr style=\"text-align: right;\">\n",
              "      <th></th>\n",
              "      <th>Id</th>\n",
              "      <th>article_link</th>\n",
              "      <th>headline</th>\n",
              "    </tr>\n",
              "  </thead>\n",
              "  <tbody>\n",
              "    <tr>\n",
              "      <th>0</th>\n",
              "      <td>18504</td>\n",
              "      <td>https://www.theonion.com/woman-relieved-soulma...</td>\n",
              "      <td>woman relieved soulmate turned out to be in sa...</td>\n",
              "    </tr>\n",
              "    <tr>\n",
              "      <th>1</th>\n",
              "      <td>20811</td>\n",
              "      <td>https://www.huffingtonpost.com/entry/end-the-i...</td>\n",
              "      <td>end the international drug war to control the ...</td>\n",
              "    </tr>\n",
              "    <tr>\n",
              "      <th>2</th>\n",
              "      <td>20419</td>\n",
              "      <td>https://www.huffingtonpost.com/entry/donald-tr...</td>\n",
              "      <td>who said it: renowned racist george wallace or...</td>\n",
              "    </tr>\n",
              "    <tr>\n",
              "      <th>3</th>\n",
              "      <td>20631</td>\n",
              "      <td>https://local.theonion.com/struggling-local-th...</td>\n",
              "      <td>struggling local theater space put out of its ...</td>\n",
              "    </tr>\n",
              "    <tr>\n",
              "      <th>4</th>\n",
              "      <td>1921</td>\n",
              "      <td>https://www.theonion.com/graffiti-artist-no-lo...</td>\n",
              "      <td>graffiti artist no longer putting his heart in it</td>\n",
              "    </tr>\n",
              "    <tr>\n",
              "      <th>...</th>\n",
              "      <td>...</td>\n",
              "      <td>...</td>\n",
              "      <td>...</td>\n",
              "    </tr>\n",
              "    <tr>\n",
              "      <th>5337</th>\n",
              "      <td>9516</td>\n",
              "      <td>https://www.theonion.com/man-s-whole-job-undoi...</td>\n",
              "      <td>man's whole job undoing handiwork of self-chec...</td>\n",
              "    </tr>\n",
              "    <tr>\n",
              "      <th>5338</th>\n",
              "      <td>16044</td>\n",
              "      <td>https://www.huffingtonpost.com/entry/ndaa-inde...</td>\n",
              "      <td>house vote maintains military ability to jail ...</td>\n",
              "    </tr>\n",
              "    <tr>\n",
              "      <th>5339</th>\n",
              "      <td>22535</td>\n",
              "      <td>https://www.huffingtonpost.com/entry/john-west...</td>\n",
              "      <td>fearless veteran celebrates 90th birthday on t...</td>\n",
              "    </tr>\n",
              "    <tr>\n",
              "      <th>5340</th>\n",
              "      <td>18545</td>\n",
              "      <td>https://www.huffingtonpost.com/entry/ukraine-a...</td>\n",
              "      <td>ukraine at a crossroads: could putin lose his ...</td>\n",
              "    </tr>\n",
              "    <tr>\n",
              "      <th>5341</th>\n",
              "      <td>26020</td>\n",
              "      <td>https://politics.theonion.com/dnc-files-lawsui...</td>\n",
              "      <td>dnc files lawsuit alleging nation should never...</td>\n",
              "    </tr>\n",
              "  </tbody>\n",
              "</table>\n",
              "<p>5342 rows × 3 columns</p>\n",
              "</div>"
            ],
            "text/plain": [
              "         Id  ...                                           headline\n",
              "0     18504  ...  woman relieved soulmate turned out to be in sa...\n",
              "1     20811  ...  end the international drug war to control the ...\n",
              "2     20419  ...  who said it: renowned racist george wallace or...\n",
              "3     20631  ...  struggling local theater space put out of its ...\n",
              "4      1921  ...  graffiti artist no longer putting his heart in it\n",
              "...     ...  ...                                                ...\n",
              "5337   9516  ...  man's whole job undoing handiwork of self-chec...\n",
              "5338  16044  ...  house vote maintains military ability to jail ...\n",
              "5339  22535  ...  fearless veteran celebrates 90th birthday on t...\n",
              "5340  18545  ...  ukraine at a crossroads: could putin lose his ...\n",
              "5341  26020  ...  dnc files lawsuit alleging nation should never...\n",
              "\n",
              "[5342 rows x 3 columns]"
            ]
          },
          "metadata": {
            "tags": []
          },
          "execution_count": 15
        }
      ]
    },
    {
      "cell_type": "code",
      "metadata": {
        "colab": {
          "base_uri": "https://localhost:8080/"
        },
        "id": "EZ51IyylAnQY",
        "outputId": "6ab75bc6-a50a-41da-ec32-9d9405fb09f4"
      },
      "source": [
        "test_d['cleaned_headline'] , test_d['word_count'] = clean_text(test_d['headline'])"
      ],
      "execution_count": 16,
      "outputs": [
        {
          "output_type": "stream",
          "text": [
            "100%|██████████| 5342/5342 [00:00<00:00, 153325.89it/s]\n"
          ],
          "name": "stderr"
        }
      ]
    },
    {
      "cell_type": "code",
      "metadata": {
        "colab": {
          "base_uri": "https://localhost:8080/",
          "height": 568
        },
        "id": "SJqiVzyxAxZ2",
        "outputId": "166696f0-d262-4bbd-ca0c-a14e90764a8f"
      },
      "source": [
        "test_d"
      ],
      "execution_count": 17,
      "outputs": [
        {
          "output_type": "execute_result",
          "data": {
            "text/html": [
              "<div>\n",
              "<style scoped>\n",
              "    .dataframe tbody tr th:only-of-type {\n",
              "        vertical-align: middle;\n",
              "    }\n",
              "\n",
              "    .dataframe tbody tr th {\n",
              "        vertical-align: top;\n",
              "    }\n",
              "\n",
              "    .dataframe thead th {\n",
              "        text-align: right;\n",
              "    }\n",
              "</style>\n",
              "<table border=\"1\" class=\"dataframe\">\n",
              "  <thead>\n",
              "    <tr style=\"text-align: right;\">\n",
              "      <th></th>\n",
              "      <th>Id</th>\n",
              "      <th>article_link</th>\n",
              "      <th>headline</th>\n",
              "      <th>cleaned_headline</th>\n",
              "      <th>word_count</th>\n",
              "    </tr>\n",
              "  </thead>\n",
              "  <tbody>\n",
              "    <tr>\n",
              "      <th>0</th>\n",
              "      <td>18504</td>\n",
              "      <td>https://www.theonion.com/woman-relieved-soulma...</td>\n",
              "      <td>woman relieved soulmate turned out to be in sa...</td>\n",
              "      <td>woman relieved soulmate turned out to be in sa...</td>\n",
              "      <td>11</td>\n",
              "    </tr>\n",
              "    <tr>\n",
              "      <th>1</th>\n",
              "      <td>20811</td>\n",
              "      <td>https://www.huffingtonpost.com/entry/end-the-i...</td>\n",
              "      <td>end the international drug war to control the ...</td>\n",
              "      <td>end the international drug war to control the ...</td>\n",
              "      <td>10</td>\n",
              "    </tr>\n",
              "    <tr>\n",
              "      <th>2</th>\n",
              "      <td>20419</td>\n",
              "      <td>https://www.huffingtonpost.com/entry/donald-tr...</td>\n",
              "      <td>who said it: renowned racist george wallace or...</td>\n",
              "      <td>who said it renowned racist george wallace or ...</td>\n",
              "      <td>14</td>\n",
              "    </tr>\n",
              "    <tr>\n",
              "      <th>3</th>\n",
              "      <td>20631</td>\n",
              "      <td>https://local.theonion.com/struggling-local-th...</td>\n",
              "      <td>struggling local theater space put out of its ...</td>\n",
              "      <td>struggling local theater space put out of its ...</td>\n",
              "      <td>9</td>\n",
              "    </tr>\n",
              "    <tr>\n",
              "      <th>4</th>\n",
              "      <td>1921</td>\n",
              "      <td>https://www.theonion.com/graffiti-artist-no-lo...</td>\n",
              "      <td>graffiti artist no longer putting his heart in it</td>\n",
              "      <td>graffiti artist no longer putting his heart in it</td>\n",
              "      <td>9</td>\n",
              "    </tr>\n",
              "    <tr>\n",
              "      <th>...</th>\n",
              "      <td>...</td>\n",
              "      <td>...</td>\n",
              "      <td>...</td>\n",
              "      <td>...</td>\n",
              "      <td>...</td>\n",
              "    </tr>\n",
              "    <tr>\n",
              "      <th>5337</th>\n",
              "      <td>9516</td>\n",
              "      <td>https://www.theonion.com/man-s-whole-job-undoi...</td>\n",
              "      <td>man's whole job undoing handiwork of self-chec...</td>\n",
              "      <td>mans whole job undoing handiwork of selfchecko...</td>\n",
              "      <td>8</td>\n",
              "    </tr>\n",
              "    <tr>\n",
              "      <th>5338</th>\n",
              "      <td>16044</td>\n",
              "      <td>https://www.huffingtonpost.com/entry/ndaa-inde...</td>\n",
              "      <td>house vote maintains military ability to jail ...</td>\n",
              "      <td>house vote maintains military ability to jail ...</td>\n",
              "      <td>10</td>\n",
              "    </tr>\n",
              "    <tr>\n",
              "      <th>5339</th>\n",
              "      <td>22535</td>\n",
              "      <td>https://www.huffingtonpost.com/entry/john-west...</td>\n",
              "      <td>fearless veteran celebrates 90th birthday on t...</td>\n",
              "      <td>fearless veteran celebrates 90th birthday on t...</td>\n",
              "      <td>10</td>\n",
              "    </tr>\n",
              "    <tr>\n",
              "      <th>5340</th>\n",
              "      <td>18545</td>\n",
              "      <td>https://www.huffingtonpost.com/entry/ukraine-a...</td>\n",
              "      <td>ukraine at a crossroads: could putin lose his ...</td>\n",
              "      <td>ukraine at a crossroads could putin lose his j...</td>\n",
              "      <td>13</td>\n",
              "    </tr>\n",
              "    <tr>\n",
              "      <th>5341</th>\n",
              "      <td>26020</td>\n",
              "      <td>https://politics.theonion.com/dnc-files-lawsui...</td>\n",
              "      <td>dnc files lawsuit alleging nation should never...</td>\n",
              "      <td>dnc files lawsuit alleging nation should never...</td>\n",
              "      <td>13</td>\n",
              "    </tr>\n",
              "  </tbody>\n",
              "</table>\n",
              "<p>5342 rows × 5 columns</p>\n",
              "</div>"
            ],
            "text/plain": [
              "         Id  ... word_count\n",
              "0     18504  ...         11\n",
              "1     20811  ...         10\n",
              "2     20419  ...         14\n",
              "3     20631  ...          9\n",
              "4      1921  ...          9\n",
              "...     ...  ...        ...\n",
              "5337   9516  ...          8\n",
              "5338  16044  ...         10\n",
              "5339  22535  ...         10\n",
              "5340  18545  ...         13\n",
              "5341  26020  ...         13\n",
              "\n",
              "[5342 rows x 5 columns]"
            ]
          },
          "metadata": {
            "tags": []
          },
          "execution_count": 17
        }
      ]
    },
    {
      "cell_type": "code",
      "metadata": {
        "colab": {
          "base_uri": "https://localhost:8080/"
        },
        "id": "gTu9GSm7bPen",
        "outputId": "009a392c-6aaa-4f63-e1b2-d0a34ece825b"
      },
      "source": [
        "test_d['word_count'].max()"
      ],
      "execution_count": 18,
      "outputs": [
        {
          "output_type": "execute_result",
          "data": {
            "text/plain": [
              "38"
            ]
          },
          "metadata": {
            "tags": []
          },
          "execution_count": 18
        }
      ]
    },
    {
      "cell_type": "code",
      "metadata": {
        "id": "gLk4YBx9Ayrz"
      },
      "source": [
        "test_headlines=tokenizer.texts_to_sequences(test_d['cleaned_headline'])\n",
        "test_headlines_padded=pad_sequences(test_headlines,maxlen=pad_len,padding='pre')"
      ],
      "execution_count": 19,
      "outputs": []
    },
    {
      "cell_type": "code",
      "metadata": {
        "id": "Xp2tAvwt3dCy"
      },
      "source": [
        "pred = model.predict_classes(test_headlines_padded)"
      ],
      "execution_count": 20,
      "outputs": []
    },
    {
      "cell_type": "code",
      "metadata": {
        "id": "oHebgjSiICbA"
      },
      "source": [
        "predict=np.array(pred)"
      ],
      "execution_count": 21,
      "outputs": []
    },
    {
      "cell_type": "code",
      "metadata": {
        "id": "gtlCOoT2Insy"
      },
      "source": [
        "dataSet=pd.DataFrame(test_data['Id'],columns=['Id'])"
      ],
      "execution_count": 22,
      "outputs": []
    },
    {
      "cell_type": "code",
      "metadata": {
        "id": "QBI5TxmqIRCY"
      },
      "source": [
        "dataSet['Output']=predict"
      ],
      "execution_count": 23,
      "outputs": []
    },
    {
      "cell_type": "code",
      "metadata": {
        "colab": {
          "base_uri": "https://localhost:8080/",
          "height": 417
        },
        "id": "PvM8VMDONsNe",
        "outputId": "551f2c60-958d-4639-8405-0ae27fd599b7"
      },
      "source": [
        "dataSet"
      ],
      "execution_count": 24,
      "outputs": [
        {
          "output_type": "execute_result",
          "data": {
            "text/html": [
              "<div>\n",
              "<style scoped>\n",
              "    .dataframe tbody tr th:only-of-type {\n",
              "        vertical-align: middle;\n",
              "    }\n",
              "\n",
              "    .dataframe tbody tr th {\n",
              "        vertical-align: top;\n",
              "    }\n",
              "\n",
              "    .dataframe thead th {\n",
              "        text-align: right;\n",
              "    }\n",
              "</style>\n",
              "<table border=\"1\" class=\"dataframe\">\n",
              "  <thead>\n",
              "    <tr style=\"text-align: right;\">\n",
              "      <th></th>\n",
              "      <th>Id</th>\n",
              "      <th>Output</th>\n",
              "    </tr>\n",
              "  </thead>\n",
              "  <tbody>\n",
              "    <tr>\n",
              "      <th>0</th>\n",
              "      <td>18504</td>\n",
              "      <td>1</td>\n",
              "    </tr>\n",
              "    <tr>\n",
              "      <th>1</th>\n",
              "      <td>20811</td>\n",
              "      <td>0</td>\n",
              "    </tr>\n",
              "    <tr>\n",
              "      <th>2</th>\n",
              "      <td>20419</td>\n",
              "      <td>0</td>\n",
              "    </tr>\n",
              "    <tr>\n",
              "      <th>3</th>\n",
              "      <td>20631</td>\n",
              "      <td>1</td>\n",
              "    </tr>\n",
              "    <tr>\n",
              "      <th>4</th>\n",
              "      <td>1921</td>\n",
              "      <td>1</td>\n",
              "    </tr>\n",
              "    <tr>\n",
              "      <th>...</th>\n",
              "      <td>...</td>\n",
              "      <td>...</td>\n",
              "    </tr>\n",
              "    <tr>\n",
              "      <th>5337</th>\n",
              "      <td>9516</td>\n",
              "      <td>1</td>\n",
              "    </tr>\n",
              "    <tr>\n",
              "      <th>5338</th>\n",
              "      <td>16044</td>\n",
              "      <td>0</td>\n",
              "    </tr>\n",
              "    <tr>\n",
              "      <th>5339</th>\n",
              "      <td>22535</td>\n",
              "      <td>0</td>\n",
              "    </tr>\n",
              "    <tr>\n",
              "      <th>5340</th>\n",
              "      <td>18545</td>\n",
              "      <td>0</td>\n",
              "    </tr>\n",
              "    <tr>\n",
              "      <th>5341</th>\n",
              "      <td>26020</td>\n",
              "      <td>0</td>\n",
              "    </tr>\n",
              "  </tbody>\n",
              "</table>\n",
              "<p>5342 rows × 2 columns</p>\n",
              "</div>"
            ],
            "text/plain": [
              "         Id  Output\n",
              "0     18504       1\n",
              "1     20811       0\n",
              "2     20419       0\n",
              "3     20631       1\n",
              "4      1921       1\n",
              "...     ...     ...\n",
              "5337   9516       1\n",
              "5338  16044       0\n",
              "5339  22535       0\n",
              "5340  18545       0\n",
              "5341  26020       0\n",
              "\n",
              "[5342 rows x 2 columns]"
            ]
          },
          "metadata": {
            "tags": []
          },
          "execution_count": 24
        }
      ]
    },
    {
      "cell_type": "code",
      "metadata": {
        "id": "H7orS2Z75kQ5"
      },
      "source": [
        "#dataSet.to_csv('sarcasm_output.csv')"
      ],
      "execution_count": null,
      "outputs": []
    }
  ]
}